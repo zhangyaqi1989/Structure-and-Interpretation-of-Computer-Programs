{
 "cells": [
  {
   "cell_type": "markdown",
   "metadata": {},
   "source": [
    "# Chapter 1: Building Abstractions with Functions"
   ]
  },
  {
   "cell_type": "markdown",
   "metadata": {},
   "source": [
    "## 1.1 Get started\n",
    "\n",
    "> All computing begins with representing information, specifying logic to process it, and designing abstractions that manage the complexity of that logic. \n",
    "\n",
    "**Statements and Expressions**\n",
    "\n",
    "Computer programs consist of instruction to either\n",
    "1. Compute some value\n",
    "2. Carry out some action\n",
    "\n",
    "**Functions**\n",
    "\n",
    "Functions encapsulate logic that manipulates data.\n",
    "\n",
    "**Objects**\n",
    "\n",
    "An object seamlessly bundles together data and the logic that manipulates that data in a way that manages the complexity of both\n",
    "\n",
    "**Interpreters**\n",
    "\n",
    "A program that implements such a procedure, evaluating compound expressions, is called an interpreter. \n",
    " \n",
    " > In the end, we will find that all of these core concepts are closely related: functions are objects, objects are functions, and interpreters are instances of both. However, developing a clear understanding of each of these concepts and their role in organizing code is critical to mastering the art of programming.\n",
    " \n",
    " > computer = powerful + stupid\n",
    " \n",
    "Learning to interpret errors and diagnose the cause of unexpected errors is called *debugging*.\n",
    "\n",
    "Debugging principles\n",
    "1. Test incrementally\n",
    "2. Isolate errors\n",
    "3. Check your assumptions\n",
    "4. Consult others\n",
    "5. Concentrate on what happens instead of what does not happen"
   ]
  },
  {
   "cell_type": "code",
   "execution_count": 1,
   "metadata": {},
   "outputs": [],
   "source": [
    "from urllib.request import urlopen\n",
    "shakespeare = urlopen('http://composingprograms.com/shakespeare.txt')"
   ]
  },
  {
   "cell_type": "code",
   "execution_count": 2,
   "metadata": {},
   "outputs": [],
   "source": [
    "words = set(shakespeare.read().decode().split())"
   ]
  },
  {
   "cell_type": "code",
   "execution_count": 3,
   "metadata": {},
   "outputs": [
    {
     "data": {
      "text/plain": [
       "{'diaper', 'drawer', 'redder', 'repaid', 'reward'}"
      ]
     },
     "execution_count": 3,
     "metadata": {},
     "output_type": "execute_result"
    }
   ],
   "source": [
    "{w for w in words if len(w) == 6 and w[::-1] in words}"
   ]
  },
  {
   "cell_type": "markdown",
   "metadata": {},
   "source": [
    "## 1.2 Elements of Programming"
   ]
  },
  {
   "cell_type": "markdown",
   "metadata": {},
   "source": [
    "> Programs must be written for people to read, and only incidentally for machines to execute.\n",
    "\n",
    "Pay particular attention to the means that the language provides for combining simple ideas to form more complex ideas. Every powerful language has three such mechanisms.\n",
    "* **primitive expressions and statements**, which represent the simplest building blocks that the language provides,\n",
    "* **means of combination**, by which compound elements are built from simpler ones and\n",
    "* **means of abstraction**, by which compound element can be named and manipulated as units.\n",
    "\n",
    "In programming, we deal with two kinds of elements: functions and data. Informally, data is stuff that we want to manipulate, and functions describe the rules for manipulating the data. \n",
    "\n",
    "Use names to refer to computational objects. If a value has been given a name, we say that the name binds to the value.\n",
    "\n",
    "**Pure functions**  Functions have some input (their arguments) and return some output (the result of applying them). Pure functions can be composed more reliably into compound call expressions and tend to be simpler to test\n",
    "\n",
    "**Non-pure functions** In addition to returning a value, applying a non-pure function can generate side effects, which make some change to the state of the interpreter or computer."
   ]
  },
  {
   "cell_type": "code",
   "execution_count": 4,
   "metadata": {},
   "outputs": [
    {
     "name": "stdout",
     "output_type": "stream",
     "text": [
      "1\n",
      "2\n",
      "None None\n"
     ]
    }
   ],
   "source": [
    "print(print(1), print(2))"
   ]
  },
  {
   "cell_type": "markdown",
   "metadata": {},
   "source": [
    "## 1.3 Defining New Functions\n",
    "Function: powerful abstraction technique\n",
    "\n",
    "**Environment**\n",
    "\n",
    "An environment in which an expression is evaluated consists of a sequence of frames, depicted as boxes. Each frame contains bindings, each of which associates a name with its corresponding value. There is a single global frame. \n",
    "\n",
    "**Name Evaluation**\n",
    "\n",
    "A name evaluates to the value bound to that name in the earliest frame of the current environment in which that name is found.\n",
    "\n",
    "**Aspects of a functional abstraction**\n",
    "\n",
    "To master the use of a functional abstraction, it is often useful to consider its three core attributes. The domain of a function is the set of arguments it can take. The range of a function is the set of values it can return. The intent of a function is the relationship it computes between inputs and output (as well as any side effects it might generate). Understanding functional abstractions via their domain, range, and intent is critical to using them correctly in a complex program."
   ]
  },
  {
   "cell_type": "code",
   "execution_count": 5,
   "metadata": {},
   "outputs": [
    {
     "name": "stdout",
     "output_type": "stream",
     "text": [
      "0.75\n",
      "0\n"
     ]
    }
   ],
   "source": [
    "from operator import truediv, floordiv\n",
    "print(truediv(3, 4))\n",
    "print(floordiv(1, 4))"
   ]
  },
  {
   "cell_type": "markdown",
   "metadata": {},
   "source": [
    "## 1.4 Designing Functions\n",
    "\n",
    "Functions are an essential ingredient of all programs, large and small, and serve as our primary medium to express computational processes in a programming language. \n",
    "\n",
    "1. Each function should have exactly one job\n",
    "2. Don't repeat yourself is a central tenet of software engineering\n",
    "3. Functions should be defined generally\n",
    "\n",
    "**Decomposing a complex task into concise functions is a skill that takes experience to master.**"
   ]
  },
  {
   "cell_type": "code",
   "execution_count": 6,
   "metadata": {},
   "outputs": [],
   "source": [
    "def func(a, b):\n",
    "    \"\"\"\n",
    "    one line briefly describe its functionality\n",
    "    \n",
    "    Args:\n",
    "        a (int): xxx\n",
    "        b (str): xxx\n",
    "    \n",
    "    Returns:\n",
    "        a bool value\n",
    "    \"\"\"\n",
    "    pass"
   ]
  },
  {
   "cell_type": "markdown",
   "metadata": {},
   "source": [
    "## 1.5 Control\n",
    "Controls are statements that control the flow of a program's execution based on the results of logical comparisons.\n",
    "\n",
    "Rather than being evaluated, statements are executed.\n",
    "\n",
    "Testing a function is the **act** of verifying that the function's behavior matches expectations. "
   ]
  },
  {
   "cell_type": "code",
   "execution_count": 8,
   "metadata": {},
   "outputs": [],
   "source": [
    "# testing\n",
    "assert abs(1) == 1\n",
    "assert(abs(2) == 2)"
   ]
  },
  {
   "cell_type": "markdown",
   "metadata": {},
   "source": [
    "## 1.6 Higher-Order Functions\n",
    "> One of the things we should demand from a powerful programming language is the ability to build abstractions by assigning names to common patterns and then to work in terms of the names directly. \n",
    "\n",
    "1. naming and functions allow us to abstract away a vast amount of complexity\n",
    "2. it is only by virtue of the fact that we have an extremely general evaluation procedure for the Python language that small components can be composed into complex processes.\n",
    "\n",
    "This discipline of sharing names among nested definitions is called **lexical scoping**. Critically, the inner functions have access to the names in the environment where they are defined (not where they are called). \n",
    "\n",
    "We require two extensions to our environment model to enable lexical scoping.\n",
    "1. Each user-defined function has a parent environment: the environment in which it was defined.\n",
    "2. When a user-defined function is called, its local frame extends its parent environment."
   ]
  },
  {
   "cell_type": "code",
   "execution_count": 11,
   "metadata": {},
   "outputs": [
    {
     "name": "stdout",
     "output_type": "stream",
     "text": [
      "1.6180339887498951\n"
     ]
    }
   ],
   "source": [
    "def improve(update, close, guess=1):\n",
    "        while not close(guess):\n",
    "            guess = update(guess)\n",
    "        return guess\n",
    "def golden_update(guess):\n",
    "        return 1/guess + 1\n",
    "def square_close_to_successor(guess):\n",
    "        return approx_eq(guess * guess, guess + 1)\n",
    "def approx_eq(x, y, tolerance=1e-15):\n",
    "        return abs(x - y) < tolerance\n",
    "print(improve(golden_update, square_close_to_successor))"
   ]
  },
  {
   "cell_type": "code",
   "execution_count": null,
   "metadata": {},
   "outputs": [],
   "source": []
  }
 ],
 "metadata": {
  "kernelspec": {
   "display_name": "Python 3",
   "language": "python",
   "name": "python3"
  },
  "language_info": {
   "codemirror_mode": {
    "name": "ipython",
    "version": 3
   },
   "file_extension": ".py",
   "mimetype": "text/x-python",
   "name": "python",
   "nbconvert_exporter": "python",
   "pygments_lexer": "ipython3",
   "version": "3.6.6"
  }
 },
 "nbformat": 4,
 "nbformat_minor": 2
}
